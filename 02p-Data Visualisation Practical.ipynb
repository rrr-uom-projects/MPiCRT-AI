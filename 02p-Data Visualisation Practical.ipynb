{
 "cells": [
  {
   "cell_type": "markdown",
   "metadata": {},
   "source": [
    "# Data Visualisation Notebook\n",
    "\n",
    "As we learnt in the data science and AI lecture, a very important aspect of analysing data is to visualise. So, we will learn how to visualise data using mostly seaborn. \n",
    "We already came across seaborn in the prev semester. Here we will use the data from the titanic dataset to see some graphs to help us understand the data and relationships between factors.\n",
    "\n",
    "The url for the file is:\n",
    "\n",
    "https://raw.githubusercontent.com/rrr-uom-projects/MPiCRT-AI/refs/heads/main/Data/ORN_PMCID_PMC8906058.csv \n",
    "\n",
    "And the data we will find inside is:\n",
    "\n",
    "Outcomes:\n",
    "- ORN_binary: any grade of osteoradionecrosis\n",
    "- ORN Grade: grade of the osteoradionecrosis\n",
    "\n",
    "Patient data:\n",
    "- Age: nr of years at treatment\n",
    "- Gender: sex of the patient\n",
    "- Subsite: where the tumour, oral cavity vs. oropharynx vs. hypopharynx/unknown-primary/larynx/nasopharynx\n",
    "- T_stage: tumour stage, related to tumour size\n",
    "- N_stage: nodal stage, related to nodal involvement\n",
    "- Dental_extraction: 0 no, 1 yes\n",
    "- Smoking_status: current, former, or never smoke\n",
    "- pack_years: nr of cigarrete packs/year\n",
    "- chemotherapy: chemotherapy info, in particular timing \n",
    "- postop_RT: definitive vs. postoperative radiotherapy\n",
    "\n",
    "DVH parameters form the mandible:\n",
    "- mean, minGy, maxGy: mean, minimum and maximum dose within the mandible bone, respectively\n",
    "- Vx: DVH metric, the volume within the mandible receiving at least x Gy, where x goes from 5 to 70 every 5 Gy\n",
    "- Dy: DVH metric, the highest dose that y% of the mandible received, where y is 2, 5 to 95 every 5, 97, 98, 99 \n",
    "- Volume: volume of the mandible bone\n",
    "\n"
   ]
  },
  {
   "cell_type": "markdown",
   "metadata": {},
   "source": [
    "What do we need to import to load the data, and visualise it? "
   ]
  },
  {
   "cell_type": "code",
   "execution_count": null,
   "metadata": {},
   "outputs": [],
   "source": [
    "# add code here!"
   ]
  },
  {
   "cell_type": "markdown",
   "metadata": {},
   "source": [
    "Let's load the dataframe in a variable named **orn**"
   ]
  },
  {
   "cell_type": "code",
   "execution_count": null,
   "metadata": {},
   "outputs": [],
   "source": [
    "# add code here!"
   ]
  },
  {
   "cell_type": "markdown",
   "metadata": {},
   "source": [
    "Let's set the categorical variables as categorical.  These include:\n",
    "- ORN_binary\n",
    "- ORN Grade\n",
    "- Gender\n",
    "- Subsite (check for consistency)\n",
    "- T_stage\n",
    "- N_stage\n",
    "- Dental_extraction\n",
    "- Smoking_status\n",
    "- chemotherapy (check for consistency)\n",
    "- postop_RT"
   ]
  },
  {
   "cell_type": "code",
   "execution_count": null,
   "metadata": {},
   "outputs": [],
   "source": [
    "# add code here!"
   ]
  },
  {
   "cell_type": "markdown",
   "metadata": {},
   "source": [
    "Let's start exploring the variables.  What is the distribution of ages?  Does it differ between female/males?"
   ]
  },
  {
   "cell_type": "code",
   "execution_count": null,
   "metadata": {},
   "outputs": [],
   "source": [
    "# add code here!"
   ]
  },
  {
   "cell_type": "markdown",
   "metadata": {},
   "source": [
    "Do you see any pattern between age and t-stage? "
   ]
  },
  {
   "cell_type": "code",
   "execution_count": null,
   "metadata": {},
   "outputs": [],
   "source": [
    "# add code here!"
   ]
  },
  {
   "cell_type": "markdown",
   "metadata": {},
   "source": [
    "Do female/males have different dental extraction counts?"
   ]
  },
  {
   "cell_type": "code",
   "execution_count": null,
   "metadata": {},
   "outputs": [],
   "source": [
    "# add code here!"
   ]
  },
  {
   "cell_type": "markdown",
   "metadata": {},
   "source": [
    "What about smoking status and dental extraction counts?"
   ]
  },
  {
   "cell_type": "code",
   "execution_count": null,
   "metadata": {},
   "outputs": [],
   "source": [
    "# add code here!"
   ]
  },
  {
   "cell_type": "markdown",
   "metadata": {},
   "source": [
    "Do you see any pattern between age and mandible volume?"
   ]
  },
  {
   "cell_type": "code",
   "execution_count": null,
   "metadata": {},
   "outputs": [],
   "source": [
    "# add code here!"
   ]
  },
  {
   "cell_type": "markdown",
   "metadata": {},
   "source": [
    "What about mandible volume and dental extraction? "
   ]
  },
  {
   "cell_type": "code",
   "execution_count": null,
   "metadata": {},
   "outputs": [],
   "source": [
    "# add code here!"
   ]
  },
  {
   "cell_type": "markdown",
   "metadata": {},
   "source": [
    "## Outcome (ORN_binary and ORN Grade) and other variables\n",
    "\n",
    "Let's see whether we can discover patterns in the data when looking at the outcome (both ORN binary and grade).\n",
    "\n",
    "For example: \n",
    "Is there any pattern between dental extraction and ORN? "
   ]
  },
  {
   "cell_type": "code",
   "execution_count": null,
   "metadata": {},
   "outputs": [],
   "source": [
    "# add code here!"
   ]
  },
  {
   "cell_type": "markdown",
   "metadata": {},
   "source": [
    "What about mandible volume? is it different for female/males?"
   ]
  },
  {
   "cell_type": "code",
   "execution_count": null,
   "metadata": {},
   "outputs": [],
   "source": [
    "# add code here!"
   ]
  },
  {
   "cell_type": "markdown",
   "metadata": {},
   "source": [
    "Let's explore the doses.  Is the mean dose higher for those who experienced ORN? is it different if they had dental extraction? "
   ]
  },
  {
   "cell_type": "code",
   "execution_count": null,
   "metadata": {},
   "outputs": [],
   "source": [
    "# add code here!"
   ]
  },
  {
   "cell_type": "markdown",
   "metadata": {},
   "source": [
    "What other pattern can you see?"
   ]
  },
  {
   "cell_type": "code",
   "execution_count": null,
   "metadata": {},
   "outputs": [],
   "source": [
    "# add code here!"
   ]
  },
  {
   "cell_type": "code",
   "execution_count": null,
   "metadata": {},
   "outputs": [],
   "source": [
    "# add more code here!"
   ]
  },
  {
   "cell_type": "code",
   "execution_count": null,
   "metadata": {},
   "outputs": [],
   "source": [
    "# and even more code here!"
   ]
  },
  {
   "cell_type": "markdown",
   "metadata": {},
   "source": [
    "## Freebie\n",
    "\n",
    "Here we have many continous variables which we would like to check for patterns w.r.t. the outcome. For this, pairplot() is a good tool.  \n",
    "\n",
    "Let's first choose all columns that are dosimetric:\n",
    "- mean, minGy, maxGy: mean, minimum and maximum dose within the mandible bone, respectively\n",
    "- Vx: DVH metric, the volume within the mandible receiving at least x Gy, where x goes from 5 to 70 every 5 Gy\n",
    "- Dy: DVH metric, the highest dose that y% of the mandible received, where y is 2, 5 to 95 every 5, 97, 98, 99 \n",
    "and plot their correlations, stratifying by the outcome.\n",
    "\n",
    "For this piece, I assume you have run this code before:"
   ]
  },
  {
   "cell_type": "markdown",
   "metadata": {},
   "source": [
    "```python\n",
    "import pandas as pd\n",
    "import seaborn as sns\n",
    "import matplotlib.pyplot as plt\n",
    "\n",
    "# we are loading data from github. \n",
    "dataurl = 'https://raw.githubusercontent.com/rrr-uom-projects/MPiCRT-AI/refs/heads/main/Data/ORN_PMCID_PMC8906058.csv' \n",
    "orn = pd.read_csv(dataurl, sep = ',')\n",
    "orn['ORN_binary'] = orn['ORN_binary'].astype('category')\n",
    "orn['ORN Grade'] = orn['ORN Grade'].astype('category')\n",
    "```"
   ]
  },
  {
   "cell_type": "code",
   "execution_count": null,
   "metadata": {},
   "outputs": [],
   "source": [
    "scols = ['ORN_binary', 'mean', 'minGy', 'maxGy']\n",
    "sdoses = orn.loc[:,scols] \n",
    "sns.pairplot(sdoses,hue='ORN_binary')"
   ]
  },
  {
   "cell_type": "code",
   "execution_count": null,
   "metadata": {},
   "outputs": [],
   "source": [
    "dcols = ['ORN_binary', 'D2', 'D10', 'D20', 'D30', 'D40', 'D50', 'D60', 'D70', 'D80', 'D90', 'D98']\n",
    "ddoses = orn.loc[:,dcols] \n",
    "sns.pairplot(ddoses,hue='ORN_binary')"
   ]
  },
  {
   "cell_type": "code",
   "execution_count": null,
   "metadata": {},
   "outputs": [],
   "source": [
    "vcols = ['ORN_binary', 'V5', 'V10', 'V20', 'V30', 'V40', 'V50', 'V60', 'V70']\n",
    "vdoses = orn.loc[:,vcols] \n",
    "sns.pairplot(vdoses,hue='ORN_binary')"
   ]
  },
  {
   "cell_type": "markdown",
   "metadata": {},
   "source": [
    "Here we have stratified by ORN status (any grade). You can change this to any other categorical variable to quickly assess whether there are patterns within your data.  "
   ]
  }
 ],
 "metadata": {
  "kernelspec": {
   "display_name": "Python 3",
   "language": "python",
   "name": "python3"
  },
  "language_info": {
   "codemirror_mode": {
    "name": "ipython",
    "version": 3
   },
   "file_extension": ".py",
   "mimetype": "text/x-python",
   "name": "python",
   "nbconvert_exporter": "python",
   "pygments_lexer": "ipython3",
   "version": "3.9.0"
  }
 },
 "nbformat": 4,
 "nbformat_minor": 2
}
