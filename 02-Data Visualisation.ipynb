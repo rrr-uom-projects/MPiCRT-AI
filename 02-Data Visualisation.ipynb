{
 "cells": [
  {
   "cell_type": "markdown",
   "metadata": {},
   "source": [
    "# Data Visualisation Notebook\n",
    "\n",
    "As we learnt in the data science and AI lecture, a very important aspect of analysing data is to visualise. So, we will learn how to visualise data using mostly seaborn. \n",
    "We already came across seaborn in the prev semester. Here we will use the data from the titanic dataset to see some graphs to help us understand the data and relationships between factors."
   ]
  },
  {
   "cell_type": "markdown",
   "metadata": {},
   "source": [
    "Let's load the data using pandas as we learnt in the previous notebook."
   ]
  },
  {
   "cell_type": "code",
   "execution_count": 119,
   "metadata": {},
   "outputs": [],
   "source": [
    "import pandas as pd\n",
    "# we are loading data from github. \n",
    "dataurl = 'https://github.com/rrr-uom-projects/MPiCRT-AI/raw/main/Data/titanic.csv' \n",
    "pax = pd.read_csv(dataurl, sep = ',')"
   ]
  },
  {
   "cell_type": "markdown",
   "metadata": {},
   "source": [
    "We need to understand the data we have to start making sense of it. Here is a short description of the series:\n",
    "\n",
    "- **PassengerId** Arbitrary nr between 1 and 841\n",
    "- **Survived** Weather Survived or not: 0 = No, 1 = Yes\n",
    "- **Pclass** Ticket class: 1 = 1st, 2 = 2nd, 3 = 3rd\n",
    "- **Name** Name of the Passenger\n",
    "- **Sex** Female/male\n",
    "- **Age** Age in years\n",
    "- **SibSp** No. of siblings / spouses aboard the Titanic\n",
    "- **Parch** No. of parents / children aboard the Titanic\n",
    "- **Ticket** Ticket number\n",
    "- **Fare** Passenger fare\n",
    "- **Cabin** Cabin number\n",
    "- **Embarked** Port of Embarkation:C = Cherbourg, Q = Queenstown, S = Southampton\n"
   ]
  },
  {
   "cell_type": "markdown",
   "metadata": {},
   "source": [
    "Let's sort the categorical variables correctly here."
   ]
  },
  {
   "cell_type": "code",
   "execution_count": 120,
   "metadata": {},
   "outputs": [],
   "source": [
    "pax['Sex'] = pax['Sex'].astype('category')\n",
    "pax['Survived'] = pax['Survived'].astype(\"category\")\n",
    "pax['Pclass'] = pax['Pclass'].astype(\"category\")\n",
    "pax['Embarked'] = pax['Embarked'].astype(\"category\")"
   ]
  },
  {
   "cell_type": "markdown",
   "metadata": {},
   "source": [
    "## Seaborn \n",
    "Seaborn is a Python data visualisation library based on **Matplotlib** that provides a high-level interface for creating graphics, with a big focus on statistical graphics. It is particularly well-suited for visualising datasets using Pandas data structures (DataFrames).\n",
    "\n",
    "Documentation for the package can be found here: https://seaborn.pydata.org/index.html \n",
    "\n",
    "Let's now import the libraries we need, seaborn and matplotlib:"
   ]
  },
  {
   "cell_type": "code",
   "execution_count": 121,
   "metadata": {},
   "outputs": [],
   "source": [
    "import seaborn as sns\n",
    "import matplotlib.pyplot as plt"
   ]
  },
  {
   "cell_type": "markdown",
   "metadata": {},
   "source": [
    "If you have an error in the previous line, that means that seaborn is not installed. You can use the following code: \n",
    "```python\n",
    "!pip install seaborn\n",
    "```\n"
   ]
  },
  {
   "cell_type": "markdown",
   "metadata": {},
   "source": [
    "Let's start exploring the data. Do not forget to visit [data-to-vis][https://www.data-to-viz.com/] for some ideas on how to visualise different types of data. "
   ]
  },
  {
   "cell_type": "markdown",
   "metadata": {},
   "source": [
    "### Plotting qualitative (or categorical) data\n",
    "\n",
    "Let's do some plotting for categorical values (nominal and ordinal).  Let's use sex and pclass as example of these here.\n",
    "\n",
    "For example, we can show how many observations of each category exist in the dataset.  For that we can use *sns.countplot()* which creates a *barplot*, where the size (height/length) of the bar represents the total number of observation for that category in the dataset."
   ]
  },
  {
   "cell_type": "code",
   "execution_count": null,
   "metadata": {},
   "outputs": [],
   "source": [
    "fig, axs = plt.subplots(1,2,figsize=(9, 4))#\n",
    "\n",
    "sns.countplot(x=\"Sex\", data=pax, ax=axs[0])\n",
    "sns.countplot(x=\"Pclass\", data=pax, ax=axs[1])"
   ]
  },
  {
   "cell_type": "code",
   "execution_count": null,
   "metadata": {},
   "outputs": [],
   "source": [
    "sns.countplot(x=\"Pclass\", data=pax, stat=\"percent\")"
   ]
  },
  {
   "cell_type": "markdown",
   "metadata": {},
   "source": [
    "We can also plot the combined information between these variables. For example we can stratify the counts of the class according to the sex. It is easily done in seaborn, by using the input 'hue':"
   ]
  },
  {
   "cell_type": "code",
   "execution_count": null,
   "metadata": {},
   "outputs": [],
   "source": [
    "sns.countplot(x=\"Pclass\", hue='Sex', data=pax)"
   ]
  },
  {
   "cell_type": "markdown",
   "metadata": {},
   "source": [
    "### Plotting quantitative data\n",
    "\n",
    "An important aspect to plot in quantitative data is the distribution of the values. Let's take age for example. We can plot the distribution of this variable using histograms or density plots.\n"
   ]
  },
  {
   "cell_type": "markdown",
   "metadata": {},
   "source": [
    "#### Histogram: \n",
    "is a bar plot where the axis representing the variable is divided into a set of discrete **bins** and the count of observations falling within each bin is shown using the height of the corresponding bar. Changing the number of bins can give us different insights. \n",
    "\n",
    "In seaboarn, histograms can be created using histplot():"
   ]
  },
  {
   "cell_type": "code",
   "execution_count": null,
   "metadata": {},
   "outputs": [],
   "source": [
    "fig, axs = plt.subplots(1,2,figsize=(10, 3)) # plotting multiple panels\n",
    "sns.histplot( x='Age', data=pax, ax=axs[0] )\n",
    "sns.histplot( x='Age', data=pax, bins=100, ax=axs[1] )"
   ]
  },
  {
   "cell_type": "markdown",
   "metadata": {},
   "source": [
    "#### Density plot:\n",
    "This is another way to plot the distribution of a viariable. It relies on estimating the density via *kernel density estimate (KDE)* plots. KDE represents the data using a continuous probability density curve.\n",
    "\n",
    "Relative to a histogram, KDE can produce a plot that is less cluttered and more interpretable, especially when drawing multiple distributions (we will do this later). But it has the potential to introduce distortions if the underlying distribution is bounded or not smooth. Like bins in a histogram, the quality of the representation also depends on the selection of good smoothing parameters (bw_adjust, where larger values generates smoother curves)."
   ]
  },
  {
   "cell_type": "code",
   "execution_count": null,
   "metadata": {},
   "outputs": [],
   "source": [
    "fig, axs = plt.subplots(1,3,figsize=(10, 3)) # plotting multiple panels\n",
    "sns.kdeplot( x='Age', data=pax, ax=axs[0] )\n",
    "sns.kdeplot( x='Age', data=pax, bw_adjust=0.1, ax=axs[1] )\n",
    "sns.kdeplot( x='Age', data=pax, bw_adjust=1000, ax=axs[2] )"
   ]
  },
  {
   "cell_type": "markdown",
   "metadata": {},
   "source": [
    "### Plotting two or more variables together\n",
    "\n",
    "We can plot plot values of different variables against each other, for example using scatter plots.  Let's see if there is any pattern between Age vs Fare:"
   ]
  },
  {
   "cell_type": "code",
   "execution_count": null,
   "metadata": {},
   "outputs": [],
   "source": [
    "sns.scatterplot(x='Age',y='Fare', data=pax)"
   ]
  },
  {
   "cell_type": "markdown",
   "metadata": {},
   "source": [
    "We can also use hue to distinguish these values for categories (or discrete values)."
   ]
  },
  {
   "cell_type": "code",
   "execution_count": 147,
   "metadata": {},
   "outputs": [],
   "source": [
    "fig, axs = plt.subplots(1,3,figsize=(10, 3)) # plotting multiple panels\n",
    "sns.scatterplot(x='Age',y='Fare', hue='Sex', data=pax, ax=axs[0] )\n",
    "sns.scatterplot(x='Age',y='Fare', hue='Pclass', data=pax, ax=axs[1] )\n",
    "sns.scatterplot(x='Age',y='Fare', hue='Parch', data=pax, ax=axs[2] )"
   ]
  },
  {
   "cell_type": "markdown",
   "metadata": {},
   "source": [
    "Another way to plot two (continuous) variables is by creating joint histograms. In this case, bins are created for both variables and each cell's colour represent the count of each given pair. For example, looking at fare and age, with and without discrimating by sex: "
   ]
  },
  {
   "cell_type": "code",
   "execution_count": null,
   "metadata": {},
   "outputs": [],
   "source": [
    "fig, axs = plt.subplots(1,2,figsize=(10, 3)) # plotting multiple panels\n",
    "sns.histplot(x='Age',y='Fare', data=pax, bins=30, ax=axs[0] )\n",
    "sns.histplot(x='Age',y='Fare', data=pax, bins=30, hue='Pclass', ax=axs[1] )"
   ]
  },
  {
   "cell_type": "markdown",
   "metadata": {},
   "source": [
    "We can also use the hue in histograms to discriminate between males/females or by classes.  "
   ]
  },
  {
   "cell_type": "code",
   "execution_count": null,
   "metadata": {},
   "outputs": [],
   "source": [
    "fig, axs = plt.subplots(1,2,figsize=(10, 3)) # plotting multiple panels\n",
    "sns.histplot( x='Age',hue='Sex',data=pax, ax=axs[0] )\n",
    "sns.histplot( x='Age',hue='Pclass', data=pax, ax=axs[1] ) "
   ]
  },
  {
   "cell_type": "markdown",
   "metadata": {},
   "source": [
    "In this case, the visualisation is not very useful, as there are too many histograms on top of each other. Instead, you can use kdeplots:"
   ]
  },
  {
   "cell_type": "code",
   "execution_count": null,
   "metadata": {},
   "outputs": [],
   "source": [
    "fig, axs = plt.subplots(1,2,figsize=(10, 3)) # plotting multiple panels\n",
    "sns.kdeplot( x='Age',hue='Sex',data=pax, ax=axs[0] )\n",
    "sns.kdeplot( x='Age',hue='Pclass', data=pax, ax=axs[1] ) "
   ]
  },
  {
   "cell_type": "markdown",
   "metadata": {},
   "source": [
    "Alternative ways to plot these include boxplots, violin plots and boxenplots:"
   ]
  },
  {
   "cell_type": "code",
   "execution_count": null,
   "metadata": {},
   "outputs": [],
   "source": [
    "fig, axs = plt.subplots(1,3,figsize=(12, 3)) # plotting multiple panels\n",
    "sns.boxplot(data=pax, x=\"Age\", y=\"Sex\", ax=axs[0])\n",
    "sns.violinplot(data=pax, x=\"Age\", y=\"Sex\", ax=axs[1])\n",
    "sns.boxenplot(data=pax, x=\"Age\", y=\"Sex\", ax=axs[2])"
   ]
  },
  {
   "cell_type": "code",
   "execution_count": null,
   "metadata": {},
   "outputs": [],
   "source": [
    "fig, axs = plt.subplots(1,3,figsize=(12, 3)) # plotting multiple panels\n",
    "sns.boxplot(data=pax, x=\"Age\", y=\"Pclass\", ax=axs[0])\n",
    "sns.violinplot(data=pax, x=\"Age\", y=\"Pclass\", ax=axs[1])\n",
    "sns.boxenplot(data=pax, x=\"Age\", y=\"Pclass\", ax=axs[2])"
   ]
  },
  {
   "cell_type": "markdown",
   "metadata": {},
   "source": [
    "And we can even add some more info, for example, we can distinguish between people embarked in the different ports."
   ]
  },
  {
   "cell_type": "code",
   "execution_count": null,
   "metadata": {},
   "outputs": [],
   "source": [
    "sns.boxenplot(data=pax, x=\"Age\", y=\"Sex\", hue='Embarked')"
   ]
  },
  {
   "cell_type": "markdown",
   "metadata": {},
   "source": [
    "## Exploring the outcome and input variables\n",
    "In this case, surviving would be the value that we would like to predict.  Let's start seeing whether the other variables show any pattern with predict. "
   ]
  },
  {
   "cell_type": "code",
   "execution_count": null,
   "metadata": {},
   "outputs": [],
   "source": [
    "pax.columns"
   ]
  },
  {
   "cell_type": "code",
   "execution_count": null,
   "metadata": {},
   "outputs": [],
   "source": [
    "sns.countplot( x='Pclass',hue='Survived', data=pax)"
   ]
  },
  {
   "cell_type": "code",
   "execution_count": null,
   "metadata": {},
   "outputs": [],
   "source": [
    "sns.countplot( x='Sex',hue='Survived', data=pax)"
   ]
  },
  {
   "cell_type": "code",
   "execution_count": null,
   "metadata": {},
   "outputs": [],
   "source": [
    "sns.violinplot(x='Age',hue='Survived', data=pax) # or violinplot"
   ]
  },
  {
   "cell_type": "code",
   "execution_count": null,
   "metadata": {},
   "outputs": [],
   "source": [
    "sns.countplot(x='SibSp',hue='Survived', data=pax)"
   ]
  },
  {
   "cell_type": "code",
   "execution_count": null,
   "metadata": {},
   "outputs": [],
   "source": [
    "sns.countplot(x='Parch',hue='Survived', data=pax)"
   ]
  },
  {
   "cell_type": "code",
   "execution_count": null,
   "metadata": {},
   "outputs": [],
   "source": [
    "sns.boxplot(x='Fare',hue='Survived', data=pax) "
   ]
  },
  {
   "cell_type": "code",
   "execution_count": null,
   "metadata": {},
   "outputs": [],
   "source": [
    "\n",
    "sns.countplot(x='Embarked',hue='Survived', data=pax)"
   ]
  },
  {
   "cell_type": "markdown",
   "metadata": {},
   "source": [
    "Any other combination that is of use here?"
   ]
  },
  {
   "cell_type": "markdown",
   "metadata": {},
   "source": [
    "## Exploring correlations between many variables\n",
    "\n",
    "When you have many variables, it is worth checking other functions, such as heatmap or pairplots.  That is left for the interested reader (and/or the practical)."
   ]
  }
 ],
 "metadata": {
  "kernelspec": {
   "display_name": "Python 3",
   "language": "python",
   "name": "python3"
  },
  "language_info": {
   "codemirror_mode": {
    "name": "ipython",
    "version": 3
   },
   "file_extension": ".py",
   "mimetype": "text/x-python",
   "name": "python",
   "nbconvert_exporter": "python",
   "pygments_lexer": "ipython3",
   "version": "3.9.0"
  }
 },
 "nbformat": 4,
 "nbformat_minor": 2
}
