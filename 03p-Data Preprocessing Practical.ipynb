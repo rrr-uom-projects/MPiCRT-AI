{
 "cells": [
  {
   "cell_type": "markdown",
   "metadata": {},
   "source": [
    "# Data Preprocessing before ML Practical\n",
    "\n",
    "We will run some tests on the input variables in this notebook. For completeness, here is the information we already had:\n",
    "\n",
    "The publication is:\n",
    "\n",
    "> **Normal Tissue Complication Probability (NTCP) Prediction Model for Osteoradionecrosis of the Mandible in Patients With Head and Neck Cancer After Radiation Therapy: Large-Scale Observational Cohort.** \n",
    "> By van Dijk LV, Abusaif AA, Rigert J, Naser MA, Hutcheson KA, Lai SY, Fuller CD, Mohamed ASR; on behalf on the MD Anderson Symptom Working Group. Int J Radiat Oncol Biol Phys. 2021 Oct 1;111(2):549-558. doi: 10.1016/j.ijrobp.2021.04.042. https://pubmed.ncbi.nlm.nih.gov/33965514/\n",
    "\n",
    "You can find the data in [figshare](https://figshare.com/articles/dataset/Dose-volume_histogram_DVH_parameters_of_the_mandible_for_Normal_Tissue_Complication_Probability_modelling/13568207?file=26041154).  We made a copy in our repository for your convenience.  The url for the file is:\n",
    "\n",
    "https://raw.githubusercontent.com/rrr-uom-projects/MPiCRT-AI/refs/heads/main/Data/ORN_PMCID_PMC8906058.csv \n",
    "\n",
    "And the data we will find inside is:\n",
    "\n",
    "Outcomes:\n",
    "- ORN_binary: any grade of osteoradionecrosis  <<-- This is the variable we will use in this practical!\n",
    "- ORN Grade: grade of the osteoradionecrosis\n",
    "\n",
    "Patient data:\n",
    "- Age: nr of years at treatment\n",
    "- Gender: sex of the patient\n",
    "- Subsite: where the tumour, oral cavity vs. oropharynx vs. hypopharynx/unknown-primary/larynx/nasopharynx\n",
    "- T_stage: tumour stage, related to tumour size\n",
    "- N_stage: nodal stage, related to nodal involvement\n",
    "- Dental_extraction: 0 no, 1 yes\n",
    "- Smoking_status: current, former, or never smoke\n",
    "- pack_years: nr of cigarrete packs/year\n",
    "- chemotherapy: chemotherapy info, in particular timing \n",
    "- postop_RT: definitive vs. postoperative radiotherapy\n",
    "\n",
    "DVH parameters form the mandible:\n",
    "- mean, minGy, maxGy: mean, minimum and maximum dose within the mandible bone, respectively\n",
    "- Vx: DVH metric, the volume within the mandible receiving at least x Gy, where x goes from 5 to 70 every 5 Gy\n",
    "- Dy: DVH metric, the highest dose that y% of the mandible received, where y is 2, 5 to 95 every 5, 97, 98, 99 \n",
    "- Volume: volume of the mandible bone\n",
    "\n"
   ]
  },
  {
   "cell_type": "markdown",
   "metadata": {},
   "source": [
    "Include the libraries we need and load the dataframe in a variable named **orn**. "
   ]
  },
  {
   "cell_type": "code",
   "execution_count": null,
   "metadata": {},
   "outputs": [],
   "source": [
    "# code here"
   ]
  },
  {
   "cell_type": "markdown",
   "metadata": {},
   "source": [
    "Let's set the categorical variables as categorical.  These include:\n",
    "- ORN_binary\n",
    "- ORN Grade\n",
    "- Gender\n",
    "- Subsite (check for consistency)\n",
    "- T_stage\n",
    "- N_stage\n",
    "- Dental_extraction\n",
    "- Smoking_status\n",
    "- chemotherapy (check for consistency)\n",
    "- postop_RT"
   ]
  },
  {
   "cell_type": "code",
   "execution_count": null,
   "metadata": {},
   "outputs": [],
   "source": [
    "# code here"
   ]
  },
  {
   "cell_type": "markdown",
   "metadata": {},
   "source": [
    "Create the variables 'chemo_clean' and 'chemo_binary'  -- see practical 1"
   ]
  },
  {
   "cell_type": "code",
   "execution_count": null,
   "metadata": {},
   "outputs": [],
   "source": [
    "# code here"
   ]
  },
  {
   "cell_type": "markdown",
   "metadata": {},
   "source": [
    "## Categorical variables vs ORN_binary\n",
    "\n",
    "Looking at the plots in practical 2, which categorical variables are of interest? \n",
    "Plot them here and test them using chi-square tests.\n",
    "\n",
    "Add as many cells as you need."
   ]
  },
  {
   "cell_type": "code",
   "execution_count": null,
   "metadata": {},
   "outputs": [],
   "source": [
    "# code here"
   ]
  },
  {
   "cell_type": "markdown",
   "metadata": {},
   "source": [
    "## Continous variables vs ORN_binary\n",
    "\n",
    "Looking at the plots in practical 2, which continuous variables are of interest? \n",
    "Plot them here and test them using t or Mann Whitney U tests.\n",
    "\n",
    "Add as many cells as you need."
   ]
  },
  {
   "cell_type": "code",
   "execution_count": null,
   "metadata": {},
   "outputs": [],
   "source": [
    "# Code here"
   ]
  }
 ],
 "metadata": {
  "kernelspec": {
   "display_name": "Python 3",
   "language": "python",
   "name": "python3"
  },
  "language_info": {
   "codemirror_mode": {
    "name": "ipython",
    "version": 3
   },
   "file_extension": ".py",
   "mimetype": "text/x-python",
   "name": "python",
   "nbconvert_exporter": "python",
   "pygments_lexer": "ipython3",
   "version": "3.9.0"
  }
 },
 "nbformat": 4,
 "nbformat_minor": 2
}
