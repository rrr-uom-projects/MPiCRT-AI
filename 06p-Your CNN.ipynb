{
 "cells": [
  {
   "cell_type": "markdown",
   "metadata": {},
   "source": [
    "# Train your own CNN\n",
    "\n",
    "We learnt how to train a CNN for the MNIST dataset.  Let's now try and train a classifier for CIFAR10 (or CIFAR100 if you feel courageous today).  \n",
    "\n",
    "Important: you will need to modify some parameters in OurCNN as these images are RGB, meaning that the have three channels (rather than one), and for CIFAR100, you will need 100 outputs rather than 10. \n",
    "\n",
    "Go!"
   ]
  },
  {
   "cell_type": "code",
   "execution_count": null,
   "metadata": {},
   "outputs": [],
   "source": []
  }
 ],
 "metadata": {
  "language_info": {
   "name": "python"
  }
 },
 "nbformat": 4,
 "nbformat_minor": 2
}
