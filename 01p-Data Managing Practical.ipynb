{
 "cells": [
  {
   "cell_type": "markdown",
   "metadata": {},
   "source": [
    "# Data Management Practical\n",
    "\n",
    "We will use what we learnt about pandas and NumPy now, but this time with data from a published article regarding osteoradionecrosis, a serious side effect experienced by patients treated for cancer in the head and neck region. \n",
    "\n",
    "The publication is:\n",
    "\n",
    "> **Normal Tissue Complication Probability (NTCP) Prediction Model for Osteoradionecrosis of the Mandible in Patients With Head and Neck Cancer After Radiation Therapy: Large-Scale Observational Cohort.** \n",
    "> By van Dijk LV, Abusaif AA, Rigert J, Naser MA, Hutcheson KA, Lai SY, Fuller CD, Mohamed ASR; on behalf on the MD Anderson Symptom Working Group. Int J Radiat Oncol Biol Phys. 2021 Oct 1;111(2):549-558. doi: 10.1016/j.ijrobp.2021.04.042. https://pubmed.ncbi.nlm.nih.gov/33965514/\n",
    "\n",
    "You can find the data in [figshare](https://figshare.com/articles/dataset/Dose-volume_histogram_DVH_parameters_of_the_mandible_for_Normal_Tissue_Complication_Probability_modelling/13568207?file=26041154).  We made a copy in our repository for your convenience.  The url for the file is:\n",
    "\n",
    "https://raw.githubusercontent.com/rrr-uom-projects/MPiCRT-AI/refs/heads/main/Data/ORN_PMCID_PMC8906058.csv \n",
    "\n"
   ]
  },
  {
   "cell_type": "markdown",
   "metadata": {},
   "source": [
    "What is the first step to be able to use pandas?"
   ]
  },
  {
   "cell_type": "code",
   "execution_count": 10,
   "metadata": {},
   "outputs": [],
   "source": [
    "# add code here!"
   ]
  },
  {
   "cell_type": "markdown",
   "metadata": {},
   "source": [
    "Let's load the data in a dataframe called orn.  "
   ]
  },
  {
   "cell_type": "code",
   "execution_count": 11,
   "metadata": {},
   "outputs": [],
   "source": [
    "# add code here!"
   ]
  },
  {
   "cell_type": "markdown",
   "metadata": {},
   "source": [
    "Now let's see what are the names of the columns. Check this by opening the file in another spreadsheet processor."
   ]
  },
  {
   "cell_type": "code",
   "execution_count": 12,
   "metadata": {},
   "outputs": [],
   "source": [
    "# add code here!"
   ]
  },
  {
   "cell_type": "markdown",
   "metadata": {},
   "source": [
    "There are many many columns. Here some information about the recorded data.\n",
    "\n",
    "Outcomes:\n",
    "- ORN_binary: any grade of osteoradionecrosis\n",
    "- ORN Grade: grade of the osteoradionecrosis\n",
    "\n",
    "Patient data:\n",
    "- Age: nr of years at treatment\n",
    "- Gender: sex of the patient\n",
    "- Subsite: where the tumour, oral cavity vs. oropharynx vs. hypopharynx/unknown-primary/larynx/nasopharynx\n",
    "- T_stage: tumour stage, related to tumour size\n",
    "- N_stage: nodal stage, related to nodal involvement\n",
    "- Dental_extraction: 0 no, 1 yes\n",
    "- Smoking_status: current, former, or never smoke\n",
    "- pack_years: nr of cigarrete packs/year\n",
    "- chemotherapy: chemotherapy info, in particular timing \n",
    "- postop_RT: definitive vs. postoperative radiotherapy\n",
    "\n",
    "DVH parameters form the mandible:\n",
    "- mean, minGy, maxGy: mean, minimum and maximum dose within the mandible bone, respectively\n",
    "- Vx: DVH metric, the volume within the mandible receiving at least x Gy, where x goes from 5 to 70 every 5 Gy\n",
    "- Dy: DVH metric, the highest dose that y% of the mandible received, where y is 2, 5 to 95 every 5, 97, 98, 99 \n",
    "- Volume: volume of the mandible bone\n",
    "\n"
   ]
  },
  {
   "cell_type": "markdown",
   "metadata": {},
   "source": [
    "Let's check the type of data stored in each column."
   ]
  },
  {
   "cell_type": "code",
   "execution_count": null,
   "metadata": {},
   "outputs": [],
   "source": [
    "# add code here!"
   ]
  },
  {
   "cell_type": "markdown",
   "metadata": {},
   "source": [
    "Let's find out how many females and males are in this dataframe."
   ]
  },
  {
   "cell_type": "code",
   "execution_count": null,
   "metadata": {},
   "outputs": [],
   "source": [
    "# add code here!"
   ]
  },
  {
   "cell_type": "markdown",
   "metadata": {},
   "source": [
    "Now... let's see how many patients had dental extractions."
   ]
  },
  {
   "cell_type": "code",
   "execution_count": null,
   "metadata": {},
   "outputs": [],
   "source": [
    "# add code here!"
   ]
  },
  {
   "cell_type": "markdown",
   "metadata": {},
   "source": [
    "Was the number of dental extractions the same for males and females?"
   ]
  },
  {
   "cell_type": "code",
   "execution_count": null,
   "metadata": {},
   "outputs": [],
   "source": [
    "# add code here!"
   ]
  },
  {
   "cell_type": "markdown",
   "metadata": {},
   "source": [
    "On average, was the volume of the mandible bone the same for males and females?  what was the spread?"
   ]
  },
  {
   "cell_type": "code",
   "execution_count": null,
   "metadata": {},
   "outputs": [],
   "source": [
    "# add code here!"
   ]
  },
  {
   "cell_type": "markdown",
   "metadata": {},
   "source": [
    "Let's find out how many people were younger than 60 y at treatment."
   ]
  },
  {
   "cell_type": "code",
   "execution_count": null,
   "metadata": {},
   "outputs": [],
   "source": [
    "# add code here!"
   ]
  },
  {
   "cell_type": "markdown",
   "metadata": {},
   "source": [
    "Was the volume of the mandible different for those younger and older than 60y?"
   ]
  },
  {
   "cell_type": "code",
   "execution_count": null,
   "metadata": {},
   "outputs": [],
   "source": [
    "# add code here!"
   ]
  },
  {
   "cell_type": "markdown",
   "metadata": {},
   "source": [
    "On average, was the mean dose of the mandible bone similar between the different subtypes? what about the minimum and maximum doses?"
   ]
  },
  {
   "cell_type": "code",
   "execution_count": null,
   "metadata": {},
   "outputs": [],
   "source": [
    "# add code here!"
   ]
  },
  {
   "cell_type": "markdown",
   "metadata": {},
   "source": [
    "Let's try and clean up the column on chemotherapy.  There are 9 values but they can be combined, so:\n",
    "1. create a new variable (chemo_clean) with only 4 values: no chemo, concurrent, induction, both \n",
    "2. create a new variable (chemo_binary) with 0 if no chemo was used, or 1 for any type of chemotherapy."
   ]
  },
  {
   "cell_type": "code",
   "execution_count": null,
   "metadata": {},
   "outputs": [],
   "source": [
    "# add code here!"
   ]
  },
  {
   "cell_type": "markdown",
   "metadata": {},
   "source": [
    "Were there differences on the number of osteoradionecrosis cases for males/females, <60y/>=60y, with/without dental extraction, for any of the chemo types?"
   ]
  },
  {
   "cell_type": "code",
   "execution_count": null,
   "metadata": {},
   "outputs": [],
   "source": [
    "# add code here!"
   ]
  }
 ],
 "metadata": {
  "kernelspec": {
   "display_name": "Python 3",
   "language": "python",
   "name": "python3"
  },
  "language_info": {
   "codemirror_mode": {
    "name": "ipython",
    "version": 3
   },
   "file_extension": ".py",
   "mimetype": "text/x-python",
   "name": "python",
   "nbconvert_exporter": "python",
   "pygments_lexer": "ipython3",
   "version": "3.9.0"
  }
 },
 "nbformat": 4,
 "nbformat_minor": 2
}
